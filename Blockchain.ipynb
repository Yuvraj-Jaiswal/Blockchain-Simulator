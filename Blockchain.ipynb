{
  "nbformat": 4,
  "nbformat_minor": 0,
  "metadata": {
    "colab": {
      "name": "Blockchain.ipynb",
      "provenance": [],
      "authorship_tag": "ABX9TyPkAwda/QKAObn7IGrF7xkB",
      "include_colab_link": true
    },
    "kernelspec": {
      "name": "python3",
      "display_name": "Python 3"
    },
    "language_info": {
      "name": "python"
    }
  },
  "cells": [
    {
      "cell_type": "markdown",
      "metadata": {
        "id": "view-in-github",
        "colab_type": "text"
      },
      "source": [
        "<a href=\"https://colab.research.google.com/github/Yuvraj-Jaiswal/Blockchain-Simulator/blob/main/Blockchain.ipynb\" target=\"_parent\"><img src=\"https://colab.research.google.com/assets/colab-badge.svg\" alt=\"Open In Colab\"/></a>"
      ]
    },
    {
      "cell_type": "code",
      "execution_count": 1,
      "metadata": {
        "colab": {
          "base_uri": "https://localhost:8080/"
        },
        "id": "hIvoPSTZEdmu",
        "outputId": "c299014a-a200-4c30-8206-67a8f8a0fa3d"
      },
      "outputs": [
        {
          "output_type": "stream",
          "name": "stdout",
          "text": [
            "\n",
            "\n",
            "None\n",
            "512f26ada3c3d634ac3c6b12b7b33cb50bb0963c3f6d9924241619c84ec78ff2\n",
            "--------------\n",
            "512f26ada3c3d634ac3c6b12b7b33cb50bb0963c3f6d9924241619c84ec78ff2\n",
            "7edae1ed760bfb196316585a5a10d704954d55866d7d305e0bbd4bc2c8d9bdd1\n",
            "--------------\n",
            "7edae1ed760bfb196316585a5a10d704954d55866d7d305e0bbd4bc2c8d9bdd1\n",
            "111081d8699b77b32e5f3291c743886eb37989ff28c207794c65c682f9313fb6\n",
            "--------------\n",
            "111081d8699b77b32e5f3291c743886eb37989ff28c207794c65c682f9313fb6\n",
            "a7036a06870120d5c8292db060db1495d3ec9fb2d6dcc65bd7b6b0bc39129a85\n",
            "--------------\n",
            "a7036a06870120d5c8292db060db1495d3ec9fb2d6dcc65bd7b6b0bc39129a85\n",
            "626cfe4b230eb80c4a2122a6e75d8ca906f27030b393409b2ca85acb5db147fd\n",
            "--------------\n",
            "626cfe4b230eb80c4a2122a6e75d8ca906f27030b393409b2ca85acb5db147fd\n",
            "94aea9a5ba280146f97a91528b7cf0202d30bfb26b18112ec10312246f6a3eda\n",
            "--------------\n",
            "94aea9a5ba280146f97a91528b7cf0202d30bfb26b18112ec10312246f6a3eda\n",
            "aa3b9d8ea62faec02c9f221471fef74ae1f3ed722de40542c93837d175eac339\n",
            "--------------\n",
            "aa3b9d8ea62faec02c9f221471fef74ae1f3ed722de40542c93837d175eac339\n",
            "ebfb2126c5f5f1df3201e3ea2a11877f5fa723790eb2e39d8730c52fe8d7cc01\n",
            "\n",
            "\n"
          ]
        },
        {
          "output_type": "execute_result",
          "data": {
            "text/plain": [
              "[<__main__.Blockchain.Block at 0x7f24292d9f50>,\n",
              " <__main__.Blockchain.Block at 0x7f2426aa0d90>,\n",
              " <__main__.Blockchain.Block at 0x7f24292c7c90>,\n",
              " <__main__.Blockchain.Block at 0x7f24292d9ed0>,\n",
              " <__main__.Blockchain.Block at 0x7f2426ab6ad0>,\n",
              " <__main__.Blockchain.Block at 0x7f2426ab6b10>,\n",
              " <__main__.Blockchain.Block at 0x7f2426ab6bd0>,\n",
              " <__main__.Blockchain.Block at 0x7f2426ab6c10>]"
            ]
          },
          "metadata": {},
          "execution_count": 1
        }
      ],
      "source": [
        "import hashlib\n",
        "from flask import Flask,render_template,request\n",
        "\n",
        "class Blockchain:\n",
        "\n",
        "    class Block:\n",
        "        def __init__(self,previous_hash,block_hash):\n",
        "            self.previoushash = previous_hash\n",
        "            self.blockhash = block_hash\n",
        "\n",
        "    def __init__(self ):\n",
        "        self.blockchain = []\n",
        "        self.BlockList = []\n",
        "        self.block_hash = \"None\"\n",
        "\n",
        "    def getBlockchain(self):\n",
        "        data =  \" --> \".join(self.blockchain)\n",
        "        return data\n",
        "\n",
        "    def getBlockHash(self,Print=False):\n",
        "        Numblock = 0\n",
        "        print(\"\\n\")\n",
        "        if Print:\n",
        "            for data in self.BlockList:\n",
        "                Numblock += 1\n",
        "                prev_hash = data.previoushash\n",
        "                blk_hash = data.blockhash\n",
        "                if Numblock  > 1:\n",
        "                    print(\"--------------\")\n",
        "                print(prev_hash)\n",
        "                print(blk_hash)\n",
        "        print(\"\\n\")\n",
        "        return self.BlockList\n",
        "\n",
        "    def AddBlock(self,data):\n",
        "        previous_hash = self.block_hash\n",
        "        self.blockchain.append(data)\n",
        "        block_data = \" --> \".join(self.blockchain)\n",
        "        new_hash = hashlib.sha256(block_data.encode()).hexdigest()\n",
        "        Block = Blockchain.Block(previous_hash=previous_hash,block_hash=new_hash)\n",
        "        self.block_hash = new_hash\n",
        "        self.BlockList.append(Block)\n",
        "\n",
        "    def checkBlockchain(self,dataList):\n",
        "        if self.blockchain == dataList:return True\n",
        "        else:return False\n",
        "\n",
        "\n",
        "Blockchain = Blockchain()\n",
        "\n",
        "# for i in range(10):\n",
        "#   Blockchain.AddBlock(data=f\"{i}\")\n",
        "Blockchain.AddBlock(data=\"t0\")\n",
        "Blockchain.AddBlock(data=\"t1\")\n",
        "Blockchain.AddBlock(data=\"t2\")\n",
        "Blockchain.AddBlock(data=\"t4\")\n",
        "Blockchain.AddBlock(data=\"t5\")\n",
        "Blockchain.AddBlock(data=\"t6\")\n",
        "Blockchain.AddBlock(data=\"t7\")\n",
        "Blockchain.AddBlock(data=\"t8\")\n",
        "\n",
        "Blockchain.getBlockHash(Print=True)\n"
      ]
    }
  ]
}